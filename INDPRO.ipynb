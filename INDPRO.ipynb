{
  "nbformat": 4,
  "nbformat_minor": 0,
  "metadata": {
    "colab": {
      "provenance": [],
      "authorship_tag": "ABX9TyNdJhM2p64+QIli3jntMGL2",
      "include_colab_link": true
    },
    "kernelspec": {
      "name": "python3",
      "display_name": "Python 3"
    },
    "language_info": {
      "name": "python"
    }
  },
  "cells": [
    {
      "cell_type": "markdown",
      "metadata": {
        "id": "view-in-github",
        "colab_type": "text"
      },
      "source": [
        "<a href=\"https://colab.research.google.com/github/jakub-porowski/PwcRecruitmentTask/blob/main/INDPRO.ipynb\" target=\"_parent\"><img src=\"https://colab.research.google.com/assets/colab-badge.svg\" alt=\"Open In Colab\"/></a>"
      ]
    },
    {
      "cell_type": "code",
      "execution_count": 26,
      "metadata": {
        "id": "jE2cYR3fMlyC"
      },
      "outputs": [],
      "source": [
        "import pandas as pd\n",
        "import numpy as np\n",
        "import matplotlib.pyplot as plt\n",
        "import seaborn as sns\n",
        "from sklearn.model_selection import train_test_split\n",
        "from sklearn.tree import DecisionTreeRegressor, plot_tree\n",
        "from sklearn.linear_model import LinearRegression\n",
        "from sklearn.metrics import r2_score\n",
        "from sklearn.model_selection import cross_val_score\n",
        "from sklearn.metrics import accuracy_score"
      ]
    },
    {
      "cell_type": "code",
      "source": [
        "url = \"https://raw.githubusercontent.com/jakub-porowski/PwcRecruitmentTask/main/clean_csv.csv\"\n",
        "Case = pd.read_csv(url, sep=\";\")\n",
        "Case = Case.drop(axis=0, index=0)\n",
        "Case"
      ],
      "metadata": {
        "id": "nOXZPoNzUyAS",
        "colab": {
          "base_uri": "https://localhost:8080/",
          "height": 423
        },
        "outputId": "d44e263f-3aa5-44fa-8b99-5646003bda69"
      },
      "execution_count": 27,
      "outputs": [
        {
          "output_type": "execute_result",
          "data": {
            "text/plain": [
              "            y     x1    x2       x3    x4      x5\n",
              "1    104.7474  2.837  4.04  1462.59   4.4  405948\n",
              "2    104.8129  2.578  3.56  1736.47   4.6  405466\n",
              "3    104.4135  2.793  3.13  1688.85  18.0  403957\n",
              "4    104.4852  3.283  3.10  1822.57   4.4  400415\n",
              "5    103.9464  4.049  3.25  1824.05  11.7  394222\n",
              "..        ...    ...   ...      ...   ...     ...\n",
              "270   93.1620  0.896  6.15  2209.90  20.9  117295\n",
              "271   92.8872  0.732  5.85  2391.20  14.7  116631\n",
              "272   92.3118  0.857  6.05  1946.30  19.4  115932\n",
              "273   91.9626  0.819  6.23  1852.90  37.9  115573\n",
              "274   91.6261  0.695  6.63  1570.90  22.6  115232\n",
              "\n",
              "[274 rows x 6 columns]"
            ],
            "text/html": [
              "\n",
              "  <div id=\"df-29948481-928d-47e5-bd87-17723658a429\">\n",
              "    <div class=\"colab-df-container\">\n",
              "      <div>\n",
              "<style scoped>\n",
              "    .dataframe tbody tr th:only-of-type {\n",
              "        vertical-align: middle;\n",
              "    }\n",
              "\n",
              "    .dataframe tbody tr th {\n",
              "        vertical-align: top;\n",
              "    }\n",
              "\n",
              "    .dataframe thead th {\n",
              "        text-align: right;\n",
              "    }\n",
              "</style>\n",
              "<table border=\"1\" class=\"dataframe\">\n",
              "  <thead>\n",
              "    <tr style=\"text-align: right;\">\n",
              "      <th></th>\n",
              "      <th>y</th>\n",
              "      <th>x1</th>\n",
              "      <th>x2</th>\n",
              "      <th>x3</th>\n",
              "      <th>x4</th>\n",
              "      <th>x5</th>\n",
              "    </tr>\n",
              "  </thead>\n",
              "  <tbody>\n",
              "    <tr>\n",
              "      <th>1</th>\n",
              "      <td>104.7474</td>\n",
              "      <td>2.837</td>\n",
              "      <td>4.04</td>\n",
              "      <td>1462.59</td>\n",
              "      <td>4.4</td>\n",
              "      <td>405948</td>\n",
              "    </tr>\n",
              "    <tr>\n",
              "      <th>2</th>\n",
              "      <td>104.8129</td>\n",
              "      <td>2.578</td>\n",
              "      <td>3.56</td>\n",
              "      <td>1736.47</td>\n",
              "      <td>4.6</td>\n",
              "      <td>405466</td>\n",
              "    </tr>\n",
              "    <tr>\n",
              "      <th>3</th>\n",
              "      <td>104.4135</td>\n",
              "      <td>2.793</td>\n",
              "      <td>3.13</td>\n",
              "      <td>1688.85</td>\n",
              "      <td>18.0</td>\n",
              "      <td>403957</td>\n",
              "    </tr>\n",
              "    <tr>\n",
              "      <th>4</th>\n",
              "      <td>104.4852</td>\n",
              "      <td>3.283</td>\n",
              "      <td>3.10</td>\n",
              "      <td>1822.57</td>\n",
              "      <td>4.4</td>\n",
              "      <td>400415</td>\n",
              "    </tr>\n",
              "    <tr>\n",
              "      <th>5</th>\n",
              "      <td>103.9464</td>\n",
              "      <td>4.049</td>\n",
              "      <td>3.25</td>\n",
              "      <td>1824.05</td>\n",
              "      <td>11.7</td>\n",
              "      <td>394222</td>\n",
              "    </tr>\n",
              "    <tr>\n",
              "      <th>...</th>\n",
              "      <td>...</td>\n",
              "      <td>...</td>\n",
              "      <td>...</td>\n",
              "      <td>...</td>\n",
              "      <td>...</td>\n",
              "      <td>...</td>\n",
              "    </tr>\n",
              "    <tr>\n",
              "      <th>270</th>\n",
              "      <td>93.1620</td>\n",
              "      <td>0.896</td>\n",
              "      <td>6.15</td>\n",
              "      <td>2209.90</td>\n",
              "      <td>20.9</td>\n",
              "      <td>117295</td>\n",
              "    </tr>\n",
              "    <tr>\n",
              "      <th>271</th>\n",
              "      <td>92.8872</td>\n",
              "      <td>0.732</td>\n",
              "      <td>5.85</td>\n",
              "      <td>2391.20</td>\n",
              "      <td>14.7</td>\n",
              "      <td>116631</td>\n",
              "    </tr>\n",
              "    <tr>\n",
              "      <th>272</th>\n",
              "      <td>92.3118</td>\n",
              "      <td>0.857</td>\n",
              "      <td>6.05</td>\n",
              "      <td>1946.30</td>\n",
              "      <td>19.4</td>\n",
              "      <td>115932</td>\n",
              "    </tr>\n",
              "    <tr>\n",
              "      <th>273</th>\n",
              "      <td>91.9626</td>\n",
              "      <td>0.819</td>\n",
              "      <td>6.23</td>\n",
              "      <td>1852.90</td>\n",
              "      <td>37.9</td>\n",
              "      <td>115573</td>\n",
              "    </tr>\n",
              "    <tr>\n",
              "      <th>274</th>\n",
              "      <td>91.6261</td>\n",
              "      <td>0.695</td>\n",
              "      <td>6.63</td>\n",
              "      <td>1570.90</td>\n",
              "      <td>22.6</td>\n",
              "      <td>115232</td>\n",
              "    </tr>\n",
              "  </tbody>\n",
              "</table>\n",
              "<p>274 rows × 6 columns</p>\n",
              "</div>\n",
              "      <button class=\"colab-df-convert\" onclick=\"convertToInteractive('df-29948481-928d-47e5-bd87-17723658a429')\"\n",
              "              title=\"Convert this dataframe to an interactive table.\"\n",
              "              style=\"display:none;\">\n",
              "        \n",
              "  <svg xmlns=\"http://www.w3.org/2000/svg\" height=\"24px\"viewBox=\"0 0 24 24\"\n",
              "       width=\"24px\">\n",
              "    <path d=\"M0 0h24v24H0V0z\" fill=\"none\"/>\n",
              "    <path d=\"M18.56 5.44l.94 2.06.94-2.06 2.06-.94-2.06-.94-.94-2.06-.94 2.06-2.06.94zm-11 1L8.5 8.5l.94-2.06 2.06-.94-2.06-.94L8.5 2.5l-.94 2.06-2.06.94zm10 10l.94 2.06.94-2.06 2.06-.94-2.06-.94-.94-2.06-.94 2.06-2.06.94z\"/><path d=\"M17.41 7.96l-1.37-1.37c-.4-.4-.92-.59-1.43-.59-.52 0-1.04.2-1.43.59L10.3 9.45l-7.72 7.72c-.78.78-.78 2.05 0 2.83L4 21.41c.39.39.9.59 1.41.59.51 0 1.02-.2 1.41-.59l7.78-7.78 2.81-2.81c.8-.78.8-2.07 0-2.86zM5.41 20L4 18.59l7.72-7.72 1.47 1.35L5.41 20z\"/>\n",
              "  </svg>\n",
              "      </button>\n",
              "      \n",
              "  <style>\n",
              "    .colab-df-container {\n",
              "      display:flex;\n",
              "      flex-wrap:wrap;\n",
              "      gap: 12px;\n",
              "    }\n",
              "\n",
              "    .colab-df-convert {\n",
              "      background-color: #E8F0FE;\n",
              "      border: none;\n",
              "      border-radius: 50%;\n",
              "      cursor: pointer;\n",
              "      display: none;\n",
              "      fill: #1967D2;\n",
              "      height: 32px;\n",
              "      padding: 0 0 0 0;\n",
              "      width: 32px;\n",
              "    }\n",
              "\n",
              "    .colab-df-convert:hover {\n",
              "      background-color: #E2EBFA;\n",
              "      box-shadow: 0px 1px 2px rgba(60, 64, 67, 0.3), 0px 1px 3px 1px rgba(60, 64, 67, 0.15);\n",
              "      fill: #174EA6;\n",
              "    }\n",
              "\n",
              "    [theme=dark] .colab-df-convert {\n",
              "      background-color: #3B4455;\n",
              "      fill: #D2E3FC;\n",
              "    }\n",
              "\n",
              "    [theme=dark] .colab-df-convert:hover {\n",
              "      background-color: #434B5C;\n",
              "      box-shadow: 0px 1px 3px 1px rgba(0, 0, 0, 0.15);\n",
              "      filter: drop-shadow(0px 1px 2px rgba(0, 0, 0, 0.3));\n",
              "      fill: #FFFFFF;\n",
              "    }\n",
              "  </style>\n",
              "\n",
              "      <script>\n",
              "        const buttonEl =\n",
              "          document.querySelector('#df-29948481-928d-47e5-bd87-17723658a429 button.colab-df-convert');\n",
              "        buttonEl.style.display =\n",
              "          google.colab.kernel.accessAllowed ? 'block' : 'none';\n",
              "\n",
              "        async function convertToInteractive(key) {\n",
              "          const element = document.querySelector('#df-29948481-928d-47e5-bd87-17723658a429');\n",
              "          const dataTable =\n",
              "            await google.colab.kernel.invokeFunction('convertToInteractive',\n",
              "                                                     [key], {});\n",
              "          if (!dataTable) return;\n",
              "\n",
              "          const docLinkHtml = 'Like what you see? Visit the ' +\n",
              "            '<a target=\"_blank\" href=https://colab.research.google.com/notebooks/data_table.ipynb>data table notebook</a>'\n",
              "            + ' to learn more about interactive tables.';\n",
              "          element.innerHTML = '';\n",
              "          dataTable['output_type'] = 'display_data';\n",
              "          await google.colab.output.renderOutput(dataTable, element);\n",
              "          const docLink = document.createElement('div');\n",
              "          docLink.innerHTML = docLinkHtml;\n",
              "          element.appendChild(docLink);\n",
              "        }\n",
              "      </script>\n",
              "    </div>\n",
              "  </div>\n",
              "  "
            ]
          },
          "metadata": {},
          "execution_count": 27
        }
      ]
    },
    {
      "cell_type": "code",
      "source": [
        "fig, ax = plt.subplots(figsize=(22,15))\n",
        "sns.heatmap(Case.corr(), annot=True, ax=ax);"
      ],
      "metadata": {
        "colab": {
          "base_uri": "https://localhost:8080/",
          "height": 867
        },
        "id": "tfRJYqFN4LXx",
        "outputId": "9a8117f2-099b-4dfb-fac2-aa38cc4efdd2"
      },
      "execution_count": null,
      "outputs": [
        {
          "output_type": "display_data",
          "data": {
            "text/plain": [
              "<Figure size 1584x1080 with 2 Axes>"
            ],
            "image/png": "[encoded data removed]"
          },
          "metadata": {
            "needs_background": "light"
          }
        }
      ]
    },
    {
      "cell_type": "code",
      "source": [
        "ToDrop = [\"x1\",\"x2\",\"x3\",\"x4\",\"x5\"]\n",
        "Data = Case.drop(columns=[\"y\"])\n",
        "Target = Case[\"y\"]"
      ],
      "metadata": {
        "id": "q0ODslLW9ogq"
      },
      "execution_count": 28,
      "outputs": []
    },
    {
      "cell_type": "code",
      "source": [
        "X_train, X_test, y_train, y_test = train_test_split(Data, Target, test_size=.15, random_state=100)"
      ],
      "metadata": {
        "id": "Shm5L97pAKr3"
      },
      "execution_count": 29,
      "outputs": []
    },
    {
      "cell_type": "code",
      "source": [
        "LR = LinearRegression()\n",
        "LR.fit(X_train, y_train)\n",
        "predLR = LR.predict(X_test)\n",
        "r2_score(y_test, predLR)"
      ],
      "metadata": {
        "colab": {
          "base_uri": "https://localhost:8080/"
        },
        "id": "rFjSNHHxNTUB",
        "outputId": "ce482fa2-82c4-44a4-8d4c-d8a4ee8cb184"
      },
      "execution_count": 42,
      "outputs": [
        {
          "output_type": "execute_result",
          "data": {
            "text/plain": [
              "0.7690045120942707"
            ]
          },
          "metadata": {},
          "execution_count": 42
        }
      ]
    },
    {
      "cell_type": "code",
      "source": [
        "Tree = DecisionTreeRegressor()\n",
        "Tree.fit(X_train, y_train)\n",
        "plot_tree(Tree)\n",
        "plt.show()\n",
        "predTree = Tree.predict(X_test)\n",
        "r2_score(y_test, predTree)"
      ],
      "metadata": {
        "colab": {
          "base_uri": "https://localhost:8080/",
          "height": 265
        },
        "id": "2eIjFbV4AlzY",
        "outputId": "af2af48f-8161-449d-849b-0374d5807f78"
      },
      "execution_count": 32,
      "outputs": [
        {
          "output_type": "display_data",
          "data": {
            "text/plain": [
              "<Figure size 432x288 with 1 Axes>"
            ],
            "image/png": "[encoded data removed]"
          },
          "metadata": {
            "needs_background": "light"
          }
        },
        {
          "output_type": "execute_result",
          "data": {
            "text/plain": [
              "0.9521040675129822"
            ]
          },
          "metadata": {},
          "execution_count": 32
        }
      ]
    },
    {
      "cell_type": "code",
      "source": [
        "plt.rcParams[\"figure.figsize\"] = (20,10)\n",
        "feat_importances = pd.Series(Tree.feature_importances_, index=Data.columns)\n",
        "feat_importances.nlargest(50).plot(kind='barh')"
      ],
      "metadata": {
        "colab": {
          "base_uri": "https://localhost:8080/",
          "height": 609
        },
        "id": "KoxYagAmCTt4",
        "outputId": "41caf945-5639-42ad-94cc-2c153c8ebc10"
      },
      "execution_count": null,
      "outputs": [
        {
          "output_type": "execute_result",
          "data": {
            "text/plain": [
              "<matplotlib.axes._subplots.AxesSubplot at 0x7fc902d4f7f0>"
            ]
          },
          "metadata": {},
          "execution_count": 116
        },
        {
          "output_type": "display_data",
          "data": {
            "text/plain": [
              "<Figure size 1440x720 with 1 Axes>"
            ],
            "image/png": "[encoded data removed]"
          },
          "metadata": {
            "needs_background": "light"
          }
        }
      ]
    },
    {
      "cell_type": "code",
      "source": [
        "url2 = \"https://raw.githubusercontent.com/jakub-porowski/PwcRecruitmentTask/main/Target.csv\"\n",
        "YPredictionFeatureValues = pd.read_csv(url2, sep=\";\")\n",
        "YpredictionResult = Tree.predict(YPredictionFeatureValues)\n",
        "YpredictionResult"
      ],
      "metadata": {
        "colab": {
          "base_uri": "https://localhost:8080/"
        },
        "id": "8kSyXsu7Wb68",
        "outputId": "cc6848e0-5184-4dad-bd7d-05b353c1ca28"
      },
      "execution_count": null,
      "outputs": [
        {
          "output_type": "execute_result",
          "data": {
            "text/plain": [
              "array([104.7474])"
            ]
          },
          "metadata": {},
          "execution_count": 120
        }
      ]
    },
    {
      "cell_type": "markdown",
      "source": [
        "# Bonus* There is a ML code written by Chat Gpd, fortunately for me, less effective than mine ☺"
      ],
      "metadata": {
        "id": "9wDXnZo6LCoX"
      }
    },
    {
      "cell_type": "code",
      "source": [
        "import pandas as pd\n",
        "from sklearn.model_selection import train_test_split\n",
        "from sklearn.linear_model import LinearRegression\n",
        "from sklearn.tree import DecisionTreeRegressor\n",
        "from sklearn.metrics import r2_score\n",
        "\n",
        "# Convert the CSV text into a Pandas DataFrame\n",
        "url = \"https://raw.githubusercontent.com/jakub-porowski/PwcRecruitmentTask/main/clean_csv.csv\"\n",
        "data = pd.read_csv(url, sep=\";\")\n",
        "data = data.drop(axis=0, index=0)\n",
        "\n",
        "\n",
        "# Split the data into a training set and a test set\n",
        "X_train, X_test, y_train, y_test = train_test_split(data.drop('y', axis=1), data['y'], test_size=0.2)\n",
        "\n",
        "# Train a linear regression model on the training data\n",
        "model = LinearRegression()\n",
        "model.fit(X_train, y_train)\n",
        "\n",
        "# Make predictions on the test data\n",
        "y_pred = model.predict(X_test)\n",
        "\n",
        "# Evaluate the accuracy of the predictions\n",
        "r2 = r2_score(y_test, y_pred)\n",
        "print('R-squared:', r2)\n"
      ],
      "metadata": {
        "id": "jzalbbtPHQKD",
        "outputId": "0e93e7c9-42ea-49c3-f2e8-26f5a9f19d5d",
        "colab": {
          "base_uri": "https://localhost:8080/"
        }
      },
      "execution_count": 47,
      "outputs": [
        {
          "output_type": "stream",
          "name": "stdout",
          "text": [
            "R-squared: 0.6397836412981072\n"
          ]
        }
      ]
    },
    {
      "cell_type": "code",
      "source": [
        "import pandas as pd\n",
        "from sklearn.model_selection import train_test_split\n",
        "from sklearn.tree import DecisionTreeRegressor\n",
        "from sklearn.metrics import  r2_score\n",
        "\n",
        "# Convert the CSV text into a Pandas DataFrame\n",
        "url = \"https://raw.githubusercontent.com/jakub-porowski/PwcRecruitmentTask/main/clean_csv.csv\"\n",
        "data = pd.read_csv(url, sep=\";\")\n",
        "data = data.drop(axis=0, index=0)\n",
        "\n",
        "# Split the data into a training set and a test set\n",
        "X_train, X_test, y_train, y_test = train_test_split(data.drop('y', axis=1), data['y'], test_size=0.2)\n",
        "\n",
        "# Train a decision tree regressor model on the training data\n",
        "model = DecisionTreeRegressor()\n",
        "model.fit(X_train, y_train)\n",
        "\n",
        "# Make predictions on the test data\n",
        "y_pred = model.predict(X_test)\n",
        "\n",
        "# Evaluate the accuracy of the predictions\n",
        "mse = mean_squared_error(y_test, y_pred)\n",
        "r2 = r2_score(y_test, y_pred)\n",
        "print('R-squared:', r2)\n"
      ],
      "metadata": {
        "id": "jQNt5gxNJt90",
        "outputId": "f0c99fa4-10cf-4223-a6b0-ac8cd248ebab",
        "colab": {
          "base_uri": "https://localhost:8080/"
        }
      },
      "execution_count": 48,
      "outputs": [
        {
          "output_type": "stream",
          "name": "stdout",
          "text": [
            "R-squared: 0.7532863783128669\n"
          ]
        }
      ]
    }
  ]
}